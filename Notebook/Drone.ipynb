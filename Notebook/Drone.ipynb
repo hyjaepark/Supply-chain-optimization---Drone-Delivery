{
 "cells": [
  {
   "cell_type": "markdown",
   "metadata": {},
   "source": [
    "# Problem Understanding\n",
    "The Internet has profoundly changed the way we buy things, but the online shopping of today is likely not the end of that change; after each purchase we still need to wait multiple days for physical goods to be carried to our doorstep. This is where drones come in ­ autonomous, electric vehicles delivering online purchases. Flying, so never stuck in traffic. As drone technology improves every year, there remains a major issue: how do we manage and coordinate all those drones?\n",
    "\n",
    "## Task\n",
    "Given a hypothetical fleet of drones, a list of customer orders and availability of the individual products in warehouses, your task is to schedule the drone operations so that the orders are completed as soon as possible. You will need to handle the complications of multiple drones, customer orders, product types and weights, warehouses, and delivery destinations."
   ]
  },
  {
   "cell_type": "code",
   "execution_count": 17,
   "metadata": {},
   "outputs": [],
   "source": [
    "import seaborn as sns\n",
    "import pandas as pd"
   ]
  },
  {
   "cell_type": "markdown",
   "metadata": {},
   "source": [
    "# Import dataset"
   ]
  },
  {
   "cell_type": "code",
   "execution_count": 1,
   "metadata": {},
   "outputs": [],
   "source": [
    "with open('../data/busy_day.in') as file:\n",
    "    data_list = file.read().splitlines()"
   ]
  },
  {
   "cell_type": "code",
   "execution_count": 4,
   "metadata": {},
   "outputs": [
    {
     "name": "stdout",
     "output_type": "stream",
     "text": [
      " Rows of grid,columns of grid,drones,turns, maxpay load in units(u): 400 600 30 112993 200 \n",
      " Different product types: 400 \n",
      " product types weigh: 73 40 84 107 52 36 13 74 36 94 93 46 123 24 100 93 62 49 97 102 80 37 22 25 72 48 40 74 32 31 136 64 99 37 44 36 104 74 112 40 65 67 50 143 23 26 91 20 142 128 9 77 40 26 55 104 59 112 42 69 87 89 2 11 105 43 105 23 21 88 57 40 52 63 35 141 54 27 45 37 21 37 102 38 36 117 57 93 24 52 83 133 51 102 34 52 39 54 64 146 127 100 58 50 49 40 55 123 64 30 127 63 19 59 31 22 68 37 107 68 52 61 35 38 76 44 21 144 21 40 105 48 97 70 74 95 75 28 25 40 81 72 58 99 52 5 72 84 53 21 110 97 30 43 92 109 39 89 51 30 102 94 13 45 93 94 90 104 36 55 92 12 45 126 73 132 118 127 125 26 83 69 49 39 4 63 84 47 75 43 82 43 51 28 118 110 42 2 53 74 54 57 92 23 72 95 76 35 38 100 52 34 58 74 86 25 32 61 39 55 76 68 107 82 97 108 57 38 88 71 22 40 63 37 80 51 52 52 67 101 49 46 100 52 63 36 53 45 51 56 71 50 13 29 18 36 87 86 39 11 148 74 74 121 11 28 65 79 32 85 95 26 43 123 81 78 25 100 27 90 53 60 100 25 72 80 83 40 62 53 40 97 105 56 49 100 36 46 80 8 23 58 78 58 24 78 67 62 85 80 39 34 62 33 58 130 41 34 33 62 129 79 103 104 56 33 118 96 21 18 65 140 87 91 61 54 137 71 84 35 75 32 4 68 37 80 78 91 75 52 74 96 32 85 42 78 119 58 16 44 24 98 121 76 16 56 112 67 58 46 76 45 41 94 55 44 51 136 63 34 86 87 64 54 27 69 31 64 138 56 97 81 40 132 64 114 105 41 52 60 \n",
      " warehouses: 10 \n",
      " First warehouse location at first warehouse (row, column): 113 179 \n",
      " Inventory of products: 0 0 5 1 0 0 0 0 2 0 4 0 0 0 0 8 11 5 0 0 0 4 0 0 0 0 7 0 0 0 0 46 1 6 3 9 3 3 2 0 3 0 1 4 0 3 2 1 3 0 2 0 2 0 0 0 0 9 0 0 2 5 1 4 13 1 0 0 0 0 5 0 16 50 3 0 4 1 0 0 0 5 2 2 0 4 0 0 3 0 0 2 23 0 0 2 10 0 0 7 11 1 0 8 9 0 1 0 0 2 6 6 2 0 6 3 0 0 1 3 5 0 3 2 4 0 3 9 0 2 0 0 2 10 0 0 4 4 2 0 15 0 0 1 4 0 1 0 0 5 6 5 2 0 6 0 0 67 0 0 0 0 0 8 5 0 0 6 59 3 0 0 8 3 0 1 1 1 4 29 3 6 38 0 0 0 7 1 1 4 2 1 0 0 7 0 0 0 0 5 0 7 1 1 1 6 1 0 3 0 8 0 0 0 4 4 7 0 7 9 0 7 0 6 0 4 0 4 0 1 3 0 0 0 0 0 2 8 0 8 3 5 10 6 0 1 2 46 0 11 0 0 4 1 0 1 0 0 0 4 1 0 2 3 0 0 1 0 4 11 8 5 46 0 0 3 54 40 7 0 3 2 0 11 0 3 0 2 2 0 8 2 1 5 6 0 57 8 0 12 7 6 0 0 2 0 0 0 0 0 4 0 0 1 2 0 0 4 1 0 0 0 2 4 0 2 4 2 2 1 3 0 0 0 0 0 0 0 0 0 1 0 3 2 0 3 0 5 5 0 5 0 0 0 0 0 0 0 0 3 8 4 0 0 0 0 0 0 10 0 0 2 0 36 1 5 0 2 5 0 0 15 5 5 0 4 0 1 0 0 3 2 0 2 0 0 11 6 7 0 \n",
      " second warehouse location (row, column)  : 234 599 \n",
      " Inventory of products at second ware house: 0 0 3 1 1 0 0 0 2 0 6 0 0 0 0 9 4 4 0 0 0 1 0 0 5 0 6 0 50 0 0 0 7 0 2 7 0 2 2 18 0 0 4 3 0 2 4 1 6 0 4 0 8 0 79 0 0 6 0 0 2 2 2 7 4 1 0 0 0 0 4 0 0 0 2 4 0 3 0 0 0 15 0 6 0 1 0 0 4 0 0 1 0 0 0 5 3 0 3 4 6 2 0 0 10 0 5 0 0 2 5 7 3 0 11 0 0 1 2 4 4 0 7 7 3 0 5 11 0 8 0 0 6 6 0 0 10 1 2 0 0 1 0 4 3 0 2 36 0 7 3 4 1 0 4 0 2 0 0 0 0 0 0 10 3 0 0 10 0 2 0 15 6 3 0 3 2 1 1 0 4 4 0 0 0 0 4 1 3 6 0 6 3 0 3 0 0 2 38 2 0 7 2 3 3 6 1 0 4 2 2 47 0 0 5 6 7 0 12 5 0 10 0 0 0 5 0 6 0 3 1 0 0 0 1 0 1 8 0 9 0 9 9 2 0 1 0 0 0 0 0 0 7 5 0 0 0 0 0 0 3 55 8 0 0 0 4 0 5 0 8 0 0 0 0 8 0 0 8 0 4 3 0 7 0 0 0 8 5 0 6 0 2 1 0 0 0 5 0 6 8 4 0 0 1 0 0 0 0 0 0 0 0 0 6 0 10 4 0 0 0 0 3 2 0 2 2 6 3 0 2 0 0 16 0 0 0 0 78 0 1 0 4 0 0 2 0 6 9 36 5 0 0 0 0 0 33 2 0 2 9 4 0 19 0 0 0 0 0 0 64 6 0 0 1 14 0 7 1 0 0 0 8 4 0 5 0 1 0 11 7 9 0 1 0 0 5 7 11 0 \n",
      " Number of orders: 1250 \n",
      " First order to be delivery at: 340 371 \n",
      " Number of items in order: 8 \n",
      " Items of product types: 226 183 6 220 299 280 12 42\n"
     ]
    }
   ],
   "source": [
    "print(' Rows of grid,columns of grid,drones,turns, maxpay load in units(u):',data_list[0], \n",
    "      '\\n Different product types:',data_list[1],\n",
    "      '\\n product types weigh:',data_list[2],\n",
    "      '\\n warehouses:',data_list[3],\n",
    "      '\\n First warehouse location at first warehouse (row, column):',data_list[4],\n",
    "      '\\n Inventory of products:',data_list[5],\n",
    "      '\\n second warehouse location (row, column)  :',data_list[6],\n",
    "      '\\n Inventory of products at second ware house:',data_list[7],\n",
    "      '\\n Number of orders:',data_list[24],\n",
    "      '\\n First order to be delivery at:',data_list[25],\n",
    "      '\\n Number of items in order:',data_list[26],\n",
    "      '\\n Items of product types:',data_list[27]    )  "
   ]
  },
  {
   "cell_type": "code",
   "execution_count": 14,
   "metadata": {},
   "outputs": [
    {
     "name": "stdout",
     "output_type": "stream",
     "text": [
      "400\n"
     ]
    }
   ],
   "source": [
    "weight = [int(i) for i in data_list[2].split(\" \")]\n",
    "print(len(weight))"
   ]
  },
  {
   "cell_type": "code",
   "execution_count": 15,
   "metadata": {},
   "outputs": [
    {
     "data": {
      "text/plain": [
       "<matplotlib.axes._subplots.AxesSubplot at 0x23bf3272888>"
      ]
     },
     "execution_count": 15,
     "metadata": {},
     "output_type": "execute_result"
    },
    {
     "data": {
      "image/png": "[encoded data removed]",
      "text/plain": [
       "<Figure size 432x288 with 1 Axes>"
      ]
     },
     "metadata": {
      "needs_background": "light"
     },
     "output_type": "display_data"
    }
   ],
   "source": [
    "sns.distplot(weight)"
   ]
  },
  {
   "cell_type": "code",
   "execution_count": null,
   "metadata": {},
   "outputs": [],
   "source": []
  }
 ],
 "metadata": {
  "kernelspec": {
   "display_name": "Python 3",
   "language": "python",
   "name": "python3"
  },
  "language_info": {
   "codemirror_mode": {
    "name": "ipython",
    "version": 3
   },
   "file_extension": ".py",
   "mimetype": "text/x-python",
   "name": "python",
   "nbconvert_exporter": "python",
   "pygments_lexer": "ipython3",
   "version": "3.7.4"
  }
 },
 "nbformat": 4,
 "nbformat_minor": 2
}
